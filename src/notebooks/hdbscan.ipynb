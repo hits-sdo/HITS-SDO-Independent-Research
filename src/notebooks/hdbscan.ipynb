{
  "cells": [
    {
      "cell_type": "markdown",
      "metadata": {
        "id": "-OYHM2g9vhh4"
      },
      "source": [
        "# HDBSCAN Clustering"
      ]
    },
    {
      "cell_type": "markdown",
      "metadata": {
        "id": "nMePJXkMvhh6"
      },
      "source": [
        "Hierarchical Density-Based Spatial Clustering of Applications with Noise (HDBSCAN), is a clustering algorithm that can be applied to the AIA171 dataset obtained from the Solar Dynamic Observatory. The dataset consists of images, which are transformed into 1D power spectra to serve as the feature vectors. HDBSCAN enables the identification of clusters within the dataset by considering the density and connectivity of the data points. By applying HDBSCAN to the AIA171 dataset, we can uncover patterns, groupings, and anomalies in the solar observations, facilitating a deeper understanding of the underlying solar dynamics and potential insights into solar phenomena."
      ]
    },
    {
      "cell_type": "markdown",
      "metadata": {
        "id": "NzRZXneQyRof"
      },
      "source": [
        "# Clone Repository from GitHub"
      ]
    },
    {
      "cell_type": "code",
      "execution_count": 1,
      "metadata": {
        "colab": {
          "base_uri": "https://localhost:8080/"
        },
        "id": "vdnn1kYCyX-H",
        "outputId": "bb53aa6c-73c5-4106-9588-c677b71c3623"
      },
      "outputs": [
        {
          "name": "stdout",
          "output_type": "stream",
          "text": [
            "c:\\Github Repositories\\HITS-SDO-Independent-Research\\src\\notebooks\\HITS-SDO-Independent-Research\n"
          ]
        },
        {
          "name": "stderr",
          "output_type": "stream",
          "text": [
            "fatal: destination path 'HITS-SDO-Independent-Research' already exists and is not an empty directory.\n"
          ]
        },
        {
          "name": "stdout",
          "output_type": "stream",
          "text": [
            "Your branch is up to date with 'origin/main'.\n"
          ]
        },
        {
          "name": "stderr",
          "output_type": "stream",
          "text": [
            "Already on 'main'\n"
          ]
        }
      ],
      "source": [
        "!git clone https://github.com/hits-sdo/HITS-SDO-Independent-Research.git\n",
        "%cd HITS-SDO-Independent-Research/\n",
        "!git checkout main"
      ]
    },
    {
      "cell_type": "markdown",
      "metadata": {
        "id": "RjKdM0zTx54F"
      },
      "source": [
        "# Download Data"
      ]
    },
    {
      "cell_type": "code",
      "execution_count": 2,
      "metadata": {
        "colab": {
          "base_uri": "https://localhost:8080/"
        },
        "id": "4HRGUHdSwUbW",
        "outputId": "fa82e761-7bb8-4314-bb4b-e4f1eecd3191"
      },
      "outputs": [
        {
          "name": "stderr",
          "output_type": "stream",
          "text": [
            "Downloading...\n",
            "From (uriginal): https://drive.google.com/uc?id=16WD0td1f5gx4yIIDkWWSTb-oZcezI1CU\n",
            "From (redirected): https://drive.google.com/uc?id=16WD0td1f5gx4yIIDkWWSTb-oZcezI1CU&confirm=t&uuid=849e9cce-b6ac-44de-96a8-39f557bf575b\n",
            "To: c:\\Github Repositories\\HITS-SDO-Independent-Research\\src\\notebooks\\HITS-SDO-Independent-Research\\AIA171_Miniset_BW.tar.gz\n",
            "\n",
            "  0%|          | 0.00/147M [00:00<?, ?B/s]\n",
            "  0%|          | 524k/147M [00:00<00:33, 4.37MB/s]\n",
            "  1%|▏         | 2.10M/147M [00:00<00:16, 8.85MB/s]\n",
            "  3%|▎         | 3.67M/147M [00:00<00:14, 10.0MB/s]\n",
            "  4%|▎         | 5.24M/147M [00:00<00:13, 10.8MB/s]\n",
            "  5%|▍         | 6.82M/147M [00:00<00:12, 11.0MB/s]\n",
            "  6%|▌         | 8.39M/147M [00:00<00:12, 11.3MB/s]\n",
            "  7%|▋         | 9.96M/147M [00:00<00:12, 11.3MB/s]\n",
            "  8%|▊         | 11.5M/147M [00:01<00:11, 11.3MB/s]\n",
            "  9%|▉         | 13.1M/147M [00:01<00:11, 11.4MB/s]\n",
            " 10%|█         | 14.7M/147M [00:01<00:11, 11.4MB/s]\n",
            " 11%|█         | 16.3M/147M [00:01<00:11, 11.5MB/s]\n",
            " 12%|█▏        | 17.8M/147M [00:01<00:11, 11.5MB/s]\n",
            " 13%|█▎        | 19.4M/147M [00:01<00:11, 11.5MB/s]\n",
            " 14%|█▍        | 21.0M/147M [00:01<00:10, 11.6MB/s]\n",
            " 15%|█▌        | 22.5M/147M [00:02<00:10, 11.5MB/s]\n",
            " 16%|█▋        | 24.1M/147M [00:02<00:10, 11.5MB/s]\n",
            " 18%|█▊        | 25.7M/147M [00:02<00:10, 11.6MB/s]\n",
            " 19%|█▊        | 27.3M/147M [00:02<00:10, 11.5MB/s]\n",
            " 20%|█▉        | 28.8M/147M [00:02<00:10, 11.6MB/s]\n",
            " 21%|██        | 30.4M/147M [00:02<00:10, 11.5MB/s]\n",
            " 22%|██▏       | 32.0M/147M [00:02<00:09, 11.5MB/s]\n",
            " 23%|██▎       | 33.6M/147M [00:02<00:09, 11.6MB/s]\n",
            " 24%|██▍       | 35.1M/147M [00:03<00:09, 11.5MB/s]\n",
            " 25%|██▌       | 36.7M/147M [00:03<00:09, 11.6MB/s]\n",
            " 26%|██▌       | 38.3M/147M [00:03<00:09, 11.6MB/s]\n",
            " 27%|██▋       | 39.8M/147M [00:03<00:09, 11.5MB/s]\n",
            " 28%|██▊       | 41.4M/147M [00:03<00:09, 11.6MB/s]\n",
            " 29%|██▉       | 43.0M/147M [00:03<00:08, 11.5MB/s]\n",
            " 30%|███       | 44.6M/147M [00:03<00:08, 11.6MB/s]\n",
            " 31%|███▏      | 46.1M/147M [00:04<00:08, 11.5MB/s]\n",
            " 33%|███▎      | 47.7M/147M [00:04<00:08, 11.5MB/s]\n",
            " 34%|███▎      | 49.3M/147M [00:04<00:08, 11.6MB/s]\n",
            " 35%|███▍      | 50.9M/147M [00:04<00:08, 11.5MB/s]\n",
            " 36%|███▌      | 52.4M/147M [00:04<00:08, 11.6MB/s]\n",
            " 37%|███▋      | 54.0M/147M [00:04<00:08, 11.5MB/s]\n",
            " 38%|███▊      | 55.6M/147M [00:04<00:07, 11.5MB/s]\n",
            " 39%|███▉      | 57.1M/147M [00:05<00:07, 11.6MB/s]\n",
            " 40%|████      | 58.7M/147M [00:05<00:10, 8.63MB/s]\n",
            " 41%|████      | 60.3M/147M [00:05<00:09, 9.42MB/s]\n",
            " 42%|████▏     | 61.9M/147M [00:05<00:08, 9.92MB/s]\n",
            " 43%|████▎     | 63.4M/147M [00:05<00:08, 10.3MB/s]\n",
            " 44%|████▍     | 65.0M/147M [00:05<00:07, 10.7MB/s]\n",
            " 45%|████▌     | 66.6M/147M [00:05<00:07, 10.9MB/s]\n",
            " 46%|████▋     | 68.2M/147M [00:06<00:07, 11.2MB/s]\n",
            " 48%|████▊     | 69.7M/147M [00:06<00:06, 11.2MB/s]\n",
            " 49%|████▊     | 71.3M/147M [00:06<00:06, 11.3MB/s]\n",
            " 50%|████▉     | 72.9M/147M [00:06<00:06, 11.4MB/s]\n",
            " 51%|█████     | 74.4M/147M [00:06<00:06, 11.4MB/s]\n",
            " 52%|█████▏    | 76.0M/147M [00:06<00:06, 11.4MB/s]\n",
            " 53%|█████▎    | 77.6M/147M [00:06<00:05, 11.5MB/s]\n",
            " 54%|█████▍    | 79.2M/147M [00:07<00:05, 11.5MB/s]\n",
            " 55%|█████▌    | 80.7M/147M [00:07<00:05, 11.6MB/s]\n",
            " 56%|█████▌    | 82.3M/147M [00:07<00:05, 11.5MB/s]\n",
            " 57%|█████▋    | 83.9M/147M [00:07<00:05, 11.5MB/s]\n",
            " 58%|█████▊    | 85.5M/147M [00:07<00:05, 11.5MB/s]\n",
            " 59%|█████▉    | 87.0M/147M [00:07<00:05, 11.5MB/s]\n",
            " 60%|██████    | 88.6M/147M [00:07<00:04, 11.8MB/s]\n",
            " 61%|██████▏   | 90.2M/147M [00:08<00:04, 11.5MB/s]\n",
            " 63%|██████▎   | 91.8M/147M [00:08<00:04, 11.5MB/s]\n",
            " 64%|██████▎   | 93.3M/147M [00:08<00:04, 11.6MB/s]\n",
            " 65%|██████▍   | 94.9M/147M [00:08<00:04, 11.5MB/s]\n",
            " 66%|██████▌   | 96.5M/147M [00:08<00:04, 11.5MB/s]\n",
            " 67%|██████▋   | 98.0M/147M [00:08<00:04, 11.5MB/s]\n",
            " 68%|██████▊   | 99.6M/147M [00:08<00:04, 11.5MB/s]\n",
            " 69%|██████▉   | 101M/147M [00:08<00:03, 11.6MB/s] \n",
            " 70%|███████   | 103M/147M [00:09<00:03, 11.5MB/s]\n",
            " 71%|███████   | 104M/147M [00:09<00:03, 11.6MB/s]\n",
            " 72%|███████▏  | 106M/147M [00:09<00:03, 11.5MB/s]\n",
            " 73%|███████▎  | 107M/147M [00:09<00:03, 11.5MB/s]\n",
            " 74%|███████▍  | 109M/147M [00:09<00:03, 11.7MB/s]\n",
            " 75%|███████▌  | 111M/147M [00:09<00:03, 11.5MB/s]\n",
            " 76%|███████▋  | 112M/147M [00:09<00:03, 11.5MB/s]\n",
            " 78%|███████▊  | 114M/147M [00:10<00:02, 11.5MB/s]\n",
            " 79%|███████▊  | 115M/147M [00:10<00:02, 11.5MB/s]\n",
            " 80%|███████▉  | 117M/147M [00:10<00:02, 11.7MB/s]\n",
            " 81%|████████  | 118M/147M [00:10<00:02, 11.6MB/s]\n",
            " 82%|████████▏ | 120M/147M [00:10<00:02, 11.5MB/s]\n",
            " 83%|████████▎ | 122M/147M [00:10<00:02, 11.5MB/s]\n",
            " 84%|████████▍ | 123M/147M [00:10<00:02, 11.4MB/s]\n",
            " 85%|████████▌ | 125M/147M [00:11<00:01, 11.5MB/s]\n",
            " 86%|████████▌ | 126M/147M [00:11<00:01, 11.4MB/s]\n",
            " 87%|████████▋ | 128M/147M [00:11<00:01, 11.6MB/s]\n",
            " 88%|████████▊ | 129M/147M [00:11<00:01, 11.5MB/s]\n",
            " 89%|████████▉ | 131M/147M [00:11<00:01, 11.5MB/s]\n",
            " 90%|█████████ | 133M/147M [00:11<00:01, 11.6MB/s]\n",
            " 91%|█████████▏| 134M/147M [00:11<00:01, 11.5MB/s]\n",
            " 93%|█████████▎| 136M/147M [00:11<00:00, 11.8MB/s]\n",
            " 94%|█████████▎| 137M/147M [00:12<00:00, 11.4MB/s]\n",
            " 95%|█████████▍| 139M/147M [00:12<00:00, 11.5MB/s]\n",
            " 96%|█████████▌| 141M/147M [00:12<00:00, 11.6MB/s]\n",
            " 97%|█████████▋| 142M/147M [00:12<00:00, 11.5MB/s]\n",
            " 98%|█████████▊| 144M/147M [00:12<00:00, 11.6MB/s]\n",
            " 99%|█████████▉| 145M/147M [00:12<00:00, 11.7MB/s]\n",
            "100%|██████████| 147M/147M [00:12<00:00, 11.8MB/s]\n",
            "100%|██████████| 147M/147M [00:12<00:00, 11.4MB/s]\n"
          ]
        }
      ],
      "source": [
        "!gdown 16WD0td1f5gx4yIIDkWWSTb-oZcezI1CU\n",
        "!tar -zxf AIA171_Miniset_BW.tar.gz"
      ]
    },
    {
      "cell_type": "markdown",
      "metadata": {
        "id": "HbkLxgZIvhh6"
      },
      "source": [
        "## Import Libraries"
      ]
    },
    {
      "cell_type": "code",
      "execution_count": 3,
      "metadata": {
        "id": "R5em5hbdwVwz"
      },
      "outputs": [],
      "source": [
        "!pip install -q -r requirements.txt"
      ]
    },
    {
      "cell_type": "code",
      "execution_count": 4,
      "metadata": {
        "id": "N_ppeeCTvhh6"
      },
      "outputs": [],
      "source": [
        "# Import Libraries\n",
        "import numpy as np\n",
        "import scipy.stats as stats\n",
        "import glob\n",
        "import PIL.Image as Image\n",
        "from sklearn.manifold import TSNE\n",
        "import hdbscan\n",
        "import matplotlib.pyplot as plt\n",
        "from sklearn.model_selection import ParameterGrid\n",
        "from sklearn.metrics import silhouette_score\n",
        "import matplotlib.offsetbox as offsetbox"
      ]
    },
    {
      "cell_type": "markdown",
      "metadata": {
        "id": "MzsQd7p9vhh7"
      },
      "source": [
        "## Data Pre-Processing"
      ]
    },
    {
      "cell_type": "markdown",
      "metadata": {
        "id": "OmOGuO1Uvhh8"
      },
      "source": [
        "### Converting a 2D image into its 1D Power Spectrum"
      ]
    },
    {
      "cell_type": "markdown",
      "metadata": {
        "id": "so_q5JDrvhh8"
      },
      "source": [
        "Converting a 2D grayscaled image into its 1D power spectrum can be done as such:\n",
        "1. Apply the 2D Fast Fourier Transform (FFT) to the image. This is done using the FFT method in the numpy library.\n",
        "2. Once the FFT is applied, obtain the magnitude spectrum by taking the absolute value of the complex-valued result obtained from the FFT.\n",
        "3. To convert the 2D power spectrum into 1D, average the magnitudes along concentric circles centered at the image's origin (zero frequency). This is done by calculating the average magnitude for each radius, starting from the center and moving outwards.\n",
        "4. The resulting radial profile represents the 1D power spectrum, with the x-axis representing the radius and the y-axis representing the average magnitude or power at each radius.\n",
        "\n",
        "The cell below is the method that follows the steps above to calulate the 1D power specturm"
      ]
    },
    {
      "cell_type": "code",
      "execution_count": 5,
      "metadata": {
        "id": "4VaMQZQ_vhh8"
      },
      "outputs": [],
      "source": [
        "# Calculates 1d Power Spectrum\n",
        "def power_spectrum_1d(image):\n",
        "\n",
        "    # Get pixel count\n",
        "    pixel_count = image.shape[0]\n",
        "\n",
        "    # Convert into fourier transform\n",
        "    fourier_image = np.fft.fftn(image)\n",
        "    fourier_amplitudes = np.abs(fourier_image)\n",
        "\n",
        "    #Calculate 1D power spectrum\n",
        "    k_frequencies = np.fft.fftfreq(pixel_count) * pixel_count\n",
        "    k_frequencies2D = np.meshgrid(k_frequencies, k_frequencies)\n",
        "    k_norm = np.sqrt(k_frequencies2D[0] ** 2 + k_frequencies2D[1] ** 2)\n",
        "    k_bins = np.arange(0.5, pixel_count // 2 + 1, 1.)\n",
        "    k_vals = 0.5 * (k_bins[1:] + k_bins[:-1])\n",
        "    a_bins, _, _ = stats.binned_statistic(k_norm.flatten(),\n",
        "                                        (fourier_amplitudes ** 2).flatten(),\n",
        "                                        statistic = \"mean\", bins = k_bins)\n",
        "    a_bins *= np.pi * (k_bins[1:] ** 2 - k_bins[:-1] ** 2)\n",
        "\n",
        "    return a_bins\n",
        "\n",
        "# Calculates Wasserstein distance of two images\n",
        "def wasserstein(x, y):\n",
        "    return stats.wasserstein_distance(np.arange(len(x)), np.arange(len(y)), x, y)"
      ]
    },
    {
      "cell_type": "markdown",
      "metadata": {
        "id": "nNrmi-mpvhh8"
      },
      "source": [
        "### Reading the Dataset\n",
        "This cell creates two vectors: One to store the original image represented as a numpy array, and another to store the 1D power spectrum of the image"
      ]
    },
    {
      "cell_type": "code",
      "execution_count": 6,
      "metadata": {
        "id": "orB7pY0lvhh8"
      },
      "outputs": [],
      "source": [
        "# Collect all images in AIA171_Miniset_BW and represent them as 1D power specturm numpy arrays\n",
        "images = []\n",
        "x = []\n",
        "data_stride = 5\n",
        "\n",
        "image_paths = glob.glob('./AIA171_Miniset_BW/**/*.jpg', recursive = True)\n",
        "if data_stride > 1:\n",
        "    image_paths = image_paths[::data_stride]\n",
        "\n",
        "for image_path in image_paths:\n",
        "    image = Image.open(image_path).convert('L')\n",
        "    image = np.array(image)\n",
        "    image = image.astype(np.float32) / 255\n",
        "    pow_spect = power_spectrum_1d(image)\n",
        "    if pow_spect.any():\n",
        "        images.append(image)\n",
        "        x.append(pow_spect)\n",
        "\n",
        "images = np.array(images)\n",
        "x = np.array(x)"
      ]
    },
    {
      "cell_type": "markdown",
      "metadata": {
        "id": "W1aPTaCDvhh9"
      },
      "source": [
        "### Dimensionality Reduction using t-SNE"
      ]
    },
    {
      "cell_type": "markdown",
      "metadata": {
        "id": "SkftAjiPvhh9"
      },
      "source": [
        "t-Distributed Stochastic Neighbor Embedding (t-SNE) is a dimensionality reduction technique commonly used for visualizing high-dimensional data in a lower-dimensional space. It aims to capture the underlying structure and relationships within the data by preserving the pairwise similarities between data points.\n",
        "\n",
        "The cell below employs t-SNE using the scikit-learn method"
      ]
    },
    {
      "cell_type": "code",
      "execution_count": 7,
      "metadata": {
        "id": "DTm-2qjIvhh9"
      },
      "outputs": [],
      "source": [
        "embedded_x = TSNE().fit_transform(x)\n",
        "\n",
        "x_max = np.max(embedded_x, axis=0)\n",
        "x_min = np.min(embedded_x, axis=0)\n",
        "embedded_x = (embedded_x - x_min) / (x_max - x_min)"
      ]
    },
    {
      "cell_type": "markdown",
      "metadata": {
        "id": "-TknWkevvhh9"
      },
      "source": [
        "## Data Clustering"
      ]
    },
    {
      "cell_type": "markdown",
      "metadata": {
        "id": "0YMLQqwsvhh-"
      },
      "source": [
        "### HDBSCAN"
      ]
    },
    {
      "cell_type": "code",
      "execution_count": 8,
      "metadata": {
        "id": "Fmr0yxlhvhh-"
      },
      "outputs": [
        {
          "name": "stdout",
          "output_type": "stream",
          "text": [
            "-0.18114428196334356\n"
          ]
        },
        {
          "data": {
            "image/png": "[encoded data removed]",
            "text/plain": [
              "<Figure size 640x480 with 1 Axes>"
            ]
          },
          "metadata": {},
          "output_type": "display_data"
        }
      ],
      "source": [
        "# Create an instance of HDBSCAN\n",
        "clusterer = hdbscan.HDBSCAN(min_cluster_size=100, gen_min_span_tree=True, metric=wasserstein)\n",
        "\n",
        "# Fit the clusterer to the batch data\n",
        "clusterer.fit(x)\n",
        "\n",
        "# Get the cluster labels for this batch\n",
        "labels = clusterer.labels_\n",
        "\n",
        "score = silhouette_score(x, labels)\n",
        "print(score)\n",
        "\n",
        "plt.scatter(embedded_x[:,0], embedded_x[:,1], c = labels)\n",
        "plt.title('HDBSCAN Clustering with EMD Metric')\n",
        "plt.xlabel('Dimension 1')\n",
        "plt.ylabel('Dimension 2')\n",
        "plt.show()"
      ]
    }
  ],
  "metadata": {
    "colab": {
      "provenance": []
    },
    "kernelspec": {
      "display_name": "sdo_research",
      "language": "python",
      "name": "python3"
    },
    "language_info": {
      "codemirror_mode": {
        "name": "ipython",
        "version": 3
      },
      "file_extension": ".py",
      "mimetype": "text/x-python",
      "name": "python",
      "nbconvert_exporter": "python",
      "pygments_lexer": "ipython3",
      "version": "3.10.12"
    },
    "orig_nbformat": 4
  },
  "nbformat": 4,
  "nbformat_minor": 0
}
