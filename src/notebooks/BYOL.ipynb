{
 "cells": [
  {
   "cell_type": "markdown",
   "metadata": {},
   "source": [
    "## Import Libraries"
   ]
  },
  {
   "cell_type": "code",
   "execution_count": 1,
   "metadata": {},
   "outputs": [],
   "source": [
    "# Standard Libraries\n",
    "import copy\n",
    "import glob\n",
    "import os\n",
    "import sys\n",
    "\n",
    "# NumPy\n",
    "import numpy as np\n",
    "\n",
    "# SciPy\n",
    "import scipy.stats as stats\n",
    "\n",
    "# Matplotlib\n",
    "import PIL.Image as Image\n",
    "import matplotlib.offsetbox as offsetbox\n",
    "import matplotlib.pyplot as plt\n",
    "\n",
    "#HDBSCAN\n",
    "import hdbscan\n",
    "\n",
    "# Lightly\n",
    "from lightly.loss import NegativeCosineSimilarity, NTXentLoss\n",
    "from lightly.models.modules import BYOLPredictionHead, BYOLProjectionHead\n",
    "from lightly.models.utils import deactivate_requires_grad, update_momentum\n",
    "from lightly.utils.scheduler import cosine_schedule\n",
    "\n",
    "# Sklearn\n",
    "from sklearn.manifold import TSNE\n",
    "from sklearn.metrics import silhouette_score\n",
    "from sklearn.model_selection import ParameterGrid\n",
    "\n",
    "# PyTorch \n",
    "import pytorch_lightning as pl\n",
    "import pytorch_lightning as pl\n",
    "import torch\n",
    "import torchvision\n",
    "from torch import nn\n",
    "from torch.utils.data import Dataset\n",
    "\n",
    "# External files\n",
    "sys.path.append(os.path.abspath('./../../sdo_augmentation/'))\n",
    "from augmentation import Augmentations\n",
    "from augmentation_list import AugmentationList\n",
    "from augmentation_test import read_image\n",
    "\n",
    "device = \"cuda\" if torch.cuda.is_available() else \"cpu\""
   ]
  },
  {
   "cell_type": "markdown",
   "metadata": {},
   "source": [
    "## Define 1D Power Spectrum and Wasserstein Distance"
   ]
  },
  {
   "cell_type": "code",
   "execution_count": 2,
   "metadata": {},
   "outputs": [],
   "source": [
    "# Calculates 1d Power Spectrum\n",
    "def power_spectrum_1d(image):\n",
    "\n",
    "    # Get pixel count\n",
    "    pixel_count = image.shape[0]\n",
    "\n",
    "    # Convert into fourier transform\n",
    "    fourier_image = np.fft.fftn(image)\n",
    "    fourier_amplitudes = np.abs(fourier_image)\n",
    "\n",
    "    #Calculate 1D power spectrum\n",
    "    k_frequencies = np.fft.fftfreq(pixel_count) * pixel_count\n",
    "    k_frequencies2D = np.meshgrid(k_frequencies, k_frequencies)\n",
    "    k_norm = np.sqrt(k_frequencies2D[0] ** 2 + k_frequencies2D[1] ** 2)\n",
    "    k_bins = np.arange(0.5, pixel_count // 2 + 1, 1.)\n",
    "    k_vals = 0.5 * (k_bins[1:] + k_bins[:-1])\n",
    "    a_bins, _, _ = stats.binned_statistic(k_norm.flatten(),\n",
    "                                        (fourier_amplitudes ** 2).flatten(),\n",
    "                                        statistic = \"mean\", bins = k_bins)\n",
    "    a_bins *= np.pi * (k_bins[1:] ** 2 - k_bins[:-1] ** 2)\n",
    "    \n",
    "    return a_bins\n",
    "\n",
    "# Calculates Wasserstein distance of two images\n",
    "def wasserstein(x, y): \n",
    "    return stats.wasserstein_distance(np.arange(len(x)), np.arange(len(y)), x, y)"
   ]
  },
  {
   "cell_type": "markdown",
   "metadata": {},
   "source": [
    "## Define Dataset"
   ]
  },
  {
   "cell_type": "code",
   "execution_count": 3,
   "metadata": {},
   "outputs": [],
   "source": [
    "class PowerSpectrumDataset(Dataset):\n",
    "    def __init__(self, data_path, data_stride, datatype=np.float32):\n",
    "\n",
    "        self.data_path = data_path\n",
    "        self.image_files = glob.glob(data_path + \"/**/*.jpg\", recursive=True)\n",
    "        if data_stride > 1:\n",
    "            self.image_files = self.image_files[::data_stride]\n",
    "        self.datatype=datatype\n",
    "\n",
    "    def __len__(self):\n",
    "        \n",
    "        return len(self.image_files)\n",
    "\n",
    "    def __getitem__(self, idx):\n",
    "\n",
    "        image = read_image(image_loc = self.image_files[idx], image_format=\"jpg\")\n",
    "\n",
    "        power_spectrum = power_spectrum_1d(image)\n",
    "\n",
    "        if power_spectrum.any():\n",
    "            return image, power_spectrum, self.image_files[idx]\n",
    "        else:\n",
    "            return image, self.image_files[idx]"
   ]
  },
  {
   "cell_type": "markdown",
   "metadata": {},
   "source": [
    "## Define BYOL Model"
   ]
  },
  {
   "cell_type": "code",
   "execution_count": 4,
   "metadata": {},
   "outputs": [],
   "source": [
    "class BYOL(pl.LightningModule):\n",
    "    def __init__(self, lr=0.1, projection_size=256, prediction_size=256, cosine_scheduler_start=0.1, cosine_scheduler_end=1.0, epochs=10, loss='cos'):\n",
    "        super().__init__()\n",
    "\n",
    "        resnet = torchvision.models.resnet18() # Play w/ resnet.\n",
    "        self.backbone = nn.Sequential(*list(resnet.children())[:-1])\n",
    "        self.projection_head = BYOLProjectionHead(512, 1024, projection_size)\n",
    "        self.prediction_head = BYOLPredictionHead(projection_size, 1024, prediction_size)\n",
    "\n",
    "        self.backbone_momentum = copy.deepcopy(self.backbone)\n",
    "        self.projection_head_momentum = copy.deepcopy(self.projection_head)\n",
    "\n",
    "        deactivate_requires_grad(self.backbone_momentum)\n",
    "        deactivate_requires_grad(self.projection_head_momentum)\n",
    "\n",
    "\n",
    "        self.loss = loss\n",
    "        self.loss_cos = NegativeCosineSimilarity()\n",
    "        self.loss_contrast = NTXentLoss()\n",
    "\n",
    "        self.cosine_scheduler_start = cosine_scheduler_start\n",
    "        self.cosine_scheduler_end = cosine_scheduler_end\n",
    "        self.epochs = epochs\n",
    "        self.lr = lr\n",
    "\n",
    "    def forward(self, x):\n",
    "        y = self.backbone(x).flatten(start_dim=1)\n",
    "        z = self.projection_head(y)\n",
    "        p = self.prediction_head(z)\n",
    "        return p\n",
    "\n",
    "    def forward_momentum(self, x):\n",
    "        y = self.backbone_momentum(x).flatten(start_dim=1)\n",
    "        z = self.projection_head_momentum(y)\n",
    "        z = z.detach()\n",
    "        return z\n",
    "\n",
    "    def training_step(self, batch, batch_idx):\n",
    "\n",
    "        momentum = cosine_schedule(self.current_epoch, self.epochs, self.cosine_scheduler_start, self.cosine_scheduler_end)\n",
    "        update_momentum(self.backbone, self.backbone_momentum, m=momentum)\n",
    "        update_momentum(self.projection_head, self.projection_head_momentum, m=momentum)\n",
    "        (x0, x1, _) = batch\n",
    "        p0 = self.forward(x0)\n",
    "        z0 = self.forward_momentum(x0)\n",
    "        p1 = self.forward(x1)\n",
    "        z1 = self.forward_momentum(x1)\n",
    "\n",
    "        loss_cos = 0.5 * (self.loss_cos(p0, z1) + self.loss_cos(p1, z0))\n",
    "        loss_contrast = 0.5 * (self.loss_contrast(p0, z1) + self.loss_contrast(p1, z0))\n",
    "\n",
    "        if self.loss == 'cos':\n",
    "            loss = loss_cos\n",
    "        else:\n",
    "            loss = loss_contrast\n",
    "\n",
    "        self.log('loss cos', loss_cos)\n",
    "        self.log('loss contrast', loss_contrast)\n",
    "        self.log('loss', loss)\n",
    "        return loss\n",
    "\n",
    "    def configure_optimizers(self):\n",
    "        return torch.optim.SGD(self.parameters(), lr=self.lr) # Play w/ optimizers.\n"
   ]
  },
  {
   "cell_type": "code",
   "execution_count": 5,
   "metadata": {},
   "outputs": [
    {
     "name": "stderr",
     "output_type": "stream",
     "text": [
      "Seed set to 42\n"
     ]
    }
   ],
   "source": [
    "seed = 42 \n",
    "pl.seed_everything(seed, workers=True)\n",
    "\n",
    "learning_rate = 0.1\n",
    "projection_size = 32\n",
    "prediction_size = 32\n",
    "cosine_scheduler_start = .1\n",
    "cosine_scheduler_end = 1.0\n",
    "epochs = 4\n",
    "data_stride = 1\n",
    "batch_size = 512\n",
    "loss = 'contrast'   # 'contrast' or 'cos'\n",
    "\n",
    "model = BYOL(lr=learning_rate, \n",
    "             projection_size=projection_size, \n",
    "             prediction_size=prediction_size, \n",
    "             cosine_scheduler_start=cosine_scheduler_start, \n",
    "             cosine_scheduler_end=cosine_scheduler_end, \n",
    "             epochs=epochs,\n",
    "             loss=loss)"
   ]
  },
  {
   "cell_type": "markdown",
   "metadata": {},
   "source": [
    "## Initialize Dataloader"
   ]
  },
  {
   "cell_type": "code",
   "execution_count": 6,
   "metadata": {},
   "outputs": [],
   "source": [
    "data_path = './../../AIA171_Miniset_BW'\n",
    "\n",
    "dataset = PowerSpectrumDataset(data_path=data_path, data_stride=data_stride)\n",
    "\n",
    "dataloader = torch.utils.data.DataLoader(\n",
    "    dataset,\n",
    "    batch_size=batch_size,\n",
    "    shuffle=True,\n",
    "    drop_last=False,\n",
    "    num_workers=8,\n",
    ")"
   ]
  },
  {
   "cell_type": "markdown",
   "metadata": {},
   "source": [
    "## Run Training Loop"
   ]
  },
  {
   "cell_type": "code",
   "execution_count": 7,
   "metadata": {},
   "outputs": [
    {
     "name": "stderr",
     "output_type": "stream",
     "text": [
      "GPU available: False, used: False\n",
      "TPU available: False, using: 0 TPU cores\n",
      "IPU available: False, using: 0 IPUs\n",
      "HPU available: False, using: 0 HPUs\n",
      "c:\\Users\\starf\\miniconda3\\envs\\sdo_research\\lib\\site-packages\\pytorch_lightning\\trainer\\connectors\\logger_connector\\logger_connector.py:67: Starting from v1.9.0, `tensorboardX` has been removed as a dependency of the `pytorch_lightning` package, due to potential conflicts with other packages in the ML ecosystem. For this reason, `logger=True` will use `CSVLogger` as the default logger, unless the `tensorboard` or `tensorboardX` packages are found. Please `pip install lightning[extra]` or one of them to enable TensorBoard support by default\n",
      "\n",
      "  | Name                     | Type                     | Params\n",
      "----------------------------------------------------------------------\n",
      "0 | backbone                 | Sequential               | 11.2 M\n",
      "1 | projection_head          | BYOLProjectionHead       | 559 K \n",
      "2 | prediction_head          | BYOLPredictionHead       | 67.6 K\n",
      "3 | backbone_momentum        | Sequential               | 11.2 M\n",
      "4 | projection_head_momentum | BYOLProjectionHead       | 559 K \n",
      "5 | loss_cos                 | NegativeCosineSimilarity | 0     \n",
      "6 | loss_contrast            | NTXentLoss               | 0     \n",
      "----------------------------------------------------------------------\n",
      "11.8 M    Trainable params\n",
      "11.7 M    Non-trainable params\n",
      "23.5 M    Total params\n",
      "94.156    Total estimated model params size (MB)\n",
      "c:\\Users\\starf\\miniconda3\\envs\\sdo_research\\lib\\site-packages\\pytorch_lightning\\trainer\\connectors\\data_connector.py:436: Consider setting `persistent_workers=True` in 'train_dataloader' to speed up the dataloader worker initialization.\n"
     ]
    }
   ],
   "source": [
    "trainer = pl.Trainer(max_epochs=epochs,\n",
    "                     accelerator=\"auto\", devices=\"auto\", strategy=\"auto\",\n",
    "                    log_every_n_steps=10, deterministic=True)\n",
    "\n",
    "trainer.fit(model=model, train_dataloaders=dataloader)"
   ]
  }
 ],
 "metadata": {
  "kernelspec": {
   "display_name": "sdo_research",
   "language": "python",
   "name": "python3"
  },
  "language_info": {
   "codemirror_mode": {
    "name": "ipython",
    "version": 3
   },
   "file_extension": ".py",
   "mimetype": "text/x-python",
   "name": "python",
   "nbconvert_exporter": "python",
   "pygments_lexer": "ipython3",
   "version": "3.10.12"
  }
 },
 "nbformat": 4,
 "nbformat_minor": 2
}
